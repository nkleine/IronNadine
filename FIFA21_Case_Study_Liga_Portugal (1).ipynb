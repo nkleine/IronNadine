{
  "nbformat": 4,
  "nbformat_minor": 0,
  "metadata": {
    "colab": {
      "provenance": [],
      "collapsed_sections": []
    },
    "kernelspec": {
      "name": "python3",
      "display_name": "Python 3"
    },
    "language_info": {
      "name": "python"
    }
  },
  "cells": [
    {
      "cell_type": "markdown",
      "source": [
        "# FIFA Case Study - Liga Portugal"
      ],
      "metadata": {
        "id": "JXCySDj0KGJ_"
      }
    },
    {
      "cell_type": "markdown",
      "source": [
        "## Importing libraries"
      ],
      "metadata": {
        "id": "Ce3GENtDZW38"
      }
    },
    {
      "cell_type": "code",
      "execution_count": null,
      "metadata": {
        "id": "qLLAARh5y1Qt"
      },
      "outputs": [],
      "source": [
        "import pandas as pd\n",
        "import numpy as np\n",
        "import math\n",
        "import matplotlib.pyplot as plt\n",
        "import seaborn as sns \n",
        "import time\n",
        "from datetime import date\n",
        "from sklearn import linear_model"
      ]
    },
    {
      "cell_type": "code",
      "source": [
        "from google.colab import files\n",
        "uploaded = files.upload()"
      ],
      "metadata": {
        "id": "vQ4J-JPu2zJ_"
      },
      "execution_count": null,
      "outputs": []
    },
    {
      "cell_type": "code",
      "source": [
        "import io\n",
        "fifa_raw = pd.read_csv(io.BytesIO(uploaded['fifa21_train.csv']))"
      ],
      "metadata": {
        "id": "CY3i6X6_3DPN"
      },
      "execution_count": null,
      "outputs": []
    },
    {
      "cell_type": "markdown",
      "source": [
        "## Data cleaning - pre-processing"
      ],
      "metadata": {
        "id": "nj-I_ZubKM9k"
      }
    },
    {
      "cell_type": "code",
      "source": [
        "fifa_raw = pd.read_csv('fifa21_train.csv')"
      ],
      "metadata": {
        "id": "lbDgz5PDza9N"
      },
      "execution_count": null,
      "outputs": []
    },
    {
      "cell_type": "code",
      "source": [
        "correlations_matrix = fifa_raw.corr()\n",
        "sns.set(rc = {'figure.figsize':(40,25)})\n",
        "sns.heatmap(correlations_matrix, annot=True)\n",
        "plt.show()"
      ],
      "metadata": {
        "id": "zxHUAIlULsrk"
      },
      "execution_count": null,
      "outputs": []
    },
    {
      "cell_type": "code",
      "source": [
        "fifa_new_columns = fifa_raw[['Height', 'Weight', 'foot', 'Growth', 'Joined', 'Value', 'Wage', \n",
        "                 'Attacking', 'Skill', 'Movement', 'Reactions', 'Power', 'Jumping', 'Strength', 'Mentality',\n",
        "                 'Composure','Goalkeeping','Total Stats','Base Stats','W/F','SM','A/W', 'D/W', 'IR', 'PAC', 'SHO', 'PAS', 'DRI',\n",
        "                 'DEF', 'PHY', 'Hits', 'OVA']]"
      ],
      "metadata": {
        "id": "IYAUBcRBKZga"
      },
      "execution_count": null,
      "outputs": []
    },
    {
      "cell_type": "code",
      "source": [
        "sum(fifa_new_columns.duplicated())"
      ],
      "metadata": {
        "id": "ZO7FzA4CPopR"
      },
      "execution_count": null,
      "outputs": []
    },
    {
      "cell_type": "code",
      "source": [
        "fifa_new_columns.isna().sum()"
      ],
      "metadata": {
        "id": "ELD5seUEPb5U"
      },
      "execution_count": null,
      "outputs": []
    },
    {
      "cell_type": "code",
      "source": [
        "fifa_NaNs_removed = fifa_new_columns.dropna(axis=0)\n",
        "fifa_NaNs_removed.shape\n",
        "fifa_NaNs_removed.head()"
      ],
      "metadata": {
        "id": "ce-k_GsaP7Gk"
      },
      "execution_count": null,
      "outputs": []
    },
    {
      "cell_type": "code",
      "source": [
        "correlations_matrix = fifa_NaNs_removed.corr()\n",
        "sns.set(rc = {'figure.figsize':(25,10)})\n",
        "sns.heatmap(correlations_matrix, annot=True)\n",
        "plt.show()"
      ],
      "metadata": {
        "id": "fjcHIBuOQ1qN"
      },
      "execution_count": null,
      "outputs": []
    },
    {
      "cell_type": "code",
      "source": [
        "# Convert height (into inches), weight (remove 'lbs'), value (remove $ and K & M with zeros), wage (ditto) to integers -- then normalise value by contract length\n",
        "\n",
        "# Convert Joined into DateTime and use year -- this will allow us to slice into subsamples based on experience level <2, 2-5, >5 (if we want to)\n",
        "\n",
        "# Convert contract into contract length\n",
        "\n",
        "# Remove stars from W/F, SM, IR\n",
        "\n",
        "# Hits coerce to numerical"
      ],
      "metadata": {
        "id": "6-suUGZ9TYD0"
      },
      "execution_count": null,
      "outputs": []
    },
    {
      "cell_type": "markdown",
      "source": [
        "## Data cleaning - processing"
      ],
      "metadata": {
        "id": "EOjlEmHy4t08"
      }
    },
    {
      "cell_type": "code",
      "source": [
        "fifa_clean_val = fifa_NaNs_removed.copy()"
      ],
      "metadata": {
        "id": "HgvPB8Shp0ms"
      },
      "execution_count": null,
      "outputs": []
    },
    {
      "cell_type": "code",
      "source": [
        "fifa_clean_val['Weight'] = fifa_clean_val['Weight'].replace(to_replace=r'lbs', value='', regex=True) "
      ],
      "metadata": {
        "id": "NQf0ESiFq-3a"
      },
      "execution_count": null,
      "outputs": []
    },
    {
      "cell_type": "code",
      "source": [
        "def parse_ht(ht):\n",
        "  \n",
        "    ht_ = ht.split(\"'\")\n",
        "    ft_ = int(ht_[0])\n",
        "    in_ = int(ht_[1].replace(\"\\\"\",\"\"))\n",
        "    return (12*ft_) + in_\n",
        "\n",
        "fifa_clean_val['Height'] = fifa_clean_val['Height'].apply(lambda x:parse_ht(x))"
      ],
      "metadata": {
        "id": "VBoEbX8kqclk"
      },
      "execution_count": null,
      "outputs": []
    },
    {
      "cell_type": "code",
      "source": [
        "cols = ['Value','Wage'] \n",
        "\n",
        "fifa_clean_val[cols] = fifa_clean_val[cols].replace({'\\€':''}, regex=True)"
      ],
      "metadata": {
        "id": "UUjxjcdt9STl"
      },
      "execution_count": null,
      "outputs": []
    },
    {
      "cell_type": "code",
      "source": [
        "def value_to_int(x):\n",
        "    for i in x:\n",
        "      if 'K' in x:\n",
        "        i=x.replace('K','')\n",
        "        i=float(i)*1000\n",
        "        i=int(i)\n",
        "      elif 'M' in x:\n",
        "        i=x.replace('M','')\n",
        "        i=float(i)*1000000\n",
        "        i=int(i)\n",
        "      else:\n",
        "        i=i\n",
        "    return i"
      ],
      "metadata": {
        "id": "qsHYMxqS_IYw"
      },
      "execution_count": null,
      "outputs": []
    },
    {
      "cell_type": "code",
      "source": [
        "fifa_clean_val['Value'] = fifa_clean_val['Value'].apply(value_to_int)\n",
        "fifa_clean_val['Wage'] = fifa_clean_val['Wage'].apply(value_to_int)\n",
        "fifa_clean_val['Hits'] = fifa_clean_val['Hits'].apply(value_to_int)"
      ],
      "metadata": {
        "id": "fbW31-hgGcMD"
      },
      "execution_count": null,
      "outputs": []
    },
    {
      "cell_type": "code",
      "source": [
        "cols2 = ['W/F','SM', 'IR'] \n",
        "\n",
        "fifa_clean_val[cols2] = fifa_clean_val[cols2].replace({'\\★':''}, regex=True)"
      ],
      "metadata": {
        "id": "H-OLIizWKCgg"
      },
      "execution_count": null,
      "outputs": []
    },
    {
      "cell_type": "code",
      "source": [
        "fifa_clean_val['Joined'] = pd.DatetimeIndex(fifa_clean_val['Joined']).year"
      ],
      "metadata": {
        "id": "gcpFX0dNKbqt"
      },
      "execution_count": null,
      "outputs": []
    },
    {
      "cell_type": "code",
      "source": [
        "fifa_clean_val = fifa_clean_val.astype({'Value':'int', 'Wage':'int', 'W/F':'int', 'SM':'int', 'IR':'int', 'Weight':'int'})"
      ],
      "metadata": {
        "id": "L6F2u4J6OThN"
      },
      "execution_count": null,
      "outputs": []
    },
    {
      "cell_type": "code",
      "source": [
        "fifa_clean_val['Hits'] = pd.to_numeric(fifa_clean_val['Hits'], errors='coerce')"
      ],
      "metadata": {
        "id": "kiwbLXp_07nD"
      },
      "execution_count": null,
      "outputs": []
    },
    {
      "cell_type": "code",
      "source": [
        "fifa = fifa_clean_val.copy()\n",
        "fifa.info()"
      ],
      "metadata": {
        "id": "-owEyPg_SNW2"
      },
      "execution_count": null,
      "outputs": []
    },
    {
      "cell_type": "code",
      "source": [
        "fifa.isna().sum()"
      ],
      "metadata": {
        "id": "7CfPMf0L1Tq7"
      },
      "execution_count": null,
      "outputs": []
    },
    {
      "cell_type": "markdown",
      "source": [
        "## Split, encoding and normalization"
      ],
      "metadata": {
        "id": "LzqcxLWGOk4g"
      }
    },
    {
      "cell_type": "code",
      "source": [
        "from sklearn.preprocessing import MinMaxScaler\n",
        "from sklearn.preprocessing import OneHotEncoder\n",
        "from sklearn.model_selection import train_test_split\n",
        "from sklearn.metrics import mean_absolute_error, r2_score, mean_squared_error"
      ],
      "metadata": {
        "id": "9oReNZHqVK90"
      },
      "execution_count": null,
      "outputs": []
    },
    {
      "cell_type": "code",
      "source": [
        "y = fifa['OVA']\n",
        "\n",
        "X = fifa.drop(['OVA'], axis=1)"
      ],
      "metadata": {
        "id": "E26e-uz_UTaa"
      },
      "execution_count": null,
      "outputs": []
    },
    {
      "cell_type": "code",
      "source": [
        "X_num = X.select_dtypes(np.number)\n",
        "\n",
        "X_cat = X.select_dtypes(object)"
      ],
      "metadata": {
        "id": "qh0iB9BEOrgA"
      },
      "execution_count": null,
      "outputs": []
    },
    {
      "cell_type": "code",
      "source": [
        "MinMaxtransformer = MinMaxScaler().fit(X_num)\n",
        "X_normalized = MinMaxtransformer.transform(X_num)\n",
        "print(X_normalized.shape)\n",
        "\n",
        "X_normalized = pd.DataFrame(X_normalized,columns=X_num.columns)\n",
        "X_normalized.head()"
      ],
      "metadata": {
        "id": "vBxTVYnWScWY"
      },
      "execution_count": null,
      "outputs": []
    },
    {
      "cell_type": "code",
      "source": [
        "encoder = OneHotEncoder(drop='first').fit(X_cat)\n",
        "encoded = encoder.transform(X_cat).toarray()\n",
        "print(encoded)\n",
        "\n",
        "cols = encoder.get_feature_names(input_features=X_cat.columns)\n",
        "print(cols)\n",
        "\n",
        "onehot_encoded = pd.DataFrame(encoded, columns=cols)\n",
        "onehot_encoded.head()"
      ],
      "metadata": {
        "id": "l0_rrerZU8EH"
      },
      "execution_count": null,
      "outputs": []
    },
    {
      "cell_type": "code",
      "source": [
        "X = pd.concat([X_normalized, onehot_encoded], axis=1)\n",
        "X.reset_index(drop=True)\n",
        "X.head()"
      ],
      "metadata": {
        "id": "385wqPmSURKA"
      },
      "execution_count": null,
      "outputs": []
    },
    {
      "cell_type": "markdown",
      "source": [
        "## Linear regression & predictions"
      ],
      "metadata": {
        "id": "LHqYlt8cUNHL"
      }
    },
    {
      "cell_type": "code",
      "source": [
        "X_train, X_test, y_train, y_test = train_test_split(X, y, test_size=0.2, random_state=42) "
      ],
      "metadata": {
        "id": "boCViCCBUQGG"
      },
      "execution_count": null,
      "outputs": []
    },
    {
      "cell_type": "code",
      "source": [
        "lm = linear_model.LinearRegression()\n",
        "\n",
        "lm.fit(X_train,y_train)"
      ],
      "metadata": {
        "id": "K9ZAo1_vZGbF"
      },
      "execution_count": null,
      "outputs": []
    },
    {
      "cell_type": "code",
      "source": [
        "predictions = lm.predict(X_train)\n",
        "predictions_test = lm.predict(X_test)"
      ],
      "metadata": {
        "id": "aiZ38RUpZIMe"
      },
      "execution_count": null,
      "outputs": []
    },
    {
      "cell_type": "code",
      "source": [
        "print('Results for lm')\n",
        "print('  R2 SCORE: Train', round(r2_score(y_train, predictions),3), '     | Test', round(r2_score(y_test, predictions_test), 3))\n",
        "print(' MSE SCORE: Train', round(mean_squared_error(y_train,predictions),3), ' | Test', round(mean_squared_error(y_test,predictions_test), 3))\n",
        "print('RMSE SCORE: Train', round(np.sqrt(mean_squared_error(y_train,predictions)),3), '   | Test', round(np.sqrt(mean_squared_error(y_test,predictions_test)),3))\n",
        "print(' MAE SCORE: Train', round(mean_absolute_error(y_train, predictions),3), '    | Test', round(mean_absolute_error(y_test, predictions_test), 3))"
      ],
      "metadata": {
        "id": "XL8W2qDdZMj5"
      },
      "execution_count": null,
      "outputs": []
    },
    {
      "cell_type": "markdown",
      "source": [
        "## Improvements on the model?"
      ],
      "metadata": {
        "id": "0-5sX1nK9FZH"
      }
    },
    {
      "cell_type": "code",
      "source": [
        "coefficients = pd.DataFrame(lm.coef_, X.columns, columns=['Coefficients'])\n",
        "coefficients"
      ],
      "metadata": {
        "id": "tnk8Uk5gBraI"
      },
      "execution_count": null,
      "outputs": []
    },
    {
      "cell_type": "code",
      "source": [
        "regression_line = lm.intercept_ + lm.coef_[0]*fifa['Value']\n",
        "plt.plot(fifa['Value'], regression_line, c = 'orange')\n",
        "\n",
        "sns.scatterplot(x='Value', y=fifa['OVA'], data=fifa)\n",
        "plt.show()"
      ],
      "metadata": {
        "id": "vnc-wr3mCIU3"
      },
      "execution_count": null,
      "outputs": []
    },
    {
      "cell_type": "code",
      "source": [
        "for i, column in enumerate(X_num.columns, 1):\n",
        "    sns.displot(X_num[column], kde=True)\n",
        "\n",
        "   "
      ],
      "metadata": {
        "id": "2AYE7lH2DrDE"
      },
      "execution_count": null,
      "outputs": []
    },
    {
      "cell_type": "code",
      "source": [
        "X_num['Hits'].value_counts()"
      ],
      "metadata": {
        "id": "aP0mJOJ5G8wV"
      },
      "execution_count": null,
      "outputs": []
    },
    {
      "cell_type": "code",
      "source": [
        "sns.scatterplot(x=X_num['Hits'], y=y, data=X_num)"
      ],
      "metadata": {
        "id": "w-nXTb-yHcl3"
      },
      "execution_count": null,
      "outputs": []
    },
    {
      "cell_type": "code",
      "source": [
        "correlations_matrix = X_num.corr()\n",
        "sns.set(rc = {'figure.figsize':(25,10)})\n",
        "sns.heatmap(correlations_matrix, annot=True)\n",
        "plt.show()"
      ],
      "metadata": {
        "id": "AT2KohbzH_P6"
      },
      "execution_count": null,
      "outputs": []
    },
    {
      "cell_type": "code",
      "source": [
        " # Based on the distributions and the values, we drop Hits."
      ],
      "metadata": {
        "id": "GunYNgBNITPT"
      },
      "execution_count": null,
      "outputs": []
    },
    {
      "cell_type": "code",
      "source": [
        "X2_normalized = X_normalized.drop(['Hits'], axis=1)"
      ],
      "metadata": {
        "id": "7D2FjuJJIk3I"
      },
      "execution_count": null,
      "outputs": []
    },
    {
      "cell_type": "code",
      "source": [
        "X2 = pd.concat([X2_normalized, onehot_encoded], axis=1)\n",
        "X2.reset_index(drop=True)\n",
        "X2.head()"
      ],
      "metadata": {
        "id": "Ky53WCiGJdEl"
      },
      "execution_count": null,
      "outputs": []
    },
    {
      "cell_type": "markdown",
      "source": [
        "#### Testing the model again without the Hits column"
      ],
      "metadata": {
        "id": "P6MmFxiwI4Zd"
      }
    },
    {
      "cell_type": "code",
      "source": [
        "X2_train, X2_test, y_train, y_test = train_test_split(X2, y, test_size=0.2, random_state=42) "
      ],
      "metadata": {
        "id": "ueg5yxH3I7tr"
      },
      "execution_count": null,
      "outputs": []
    },
    {
      "cell_type": "code",
      "source": [
        "lm2 = linear_model.LinearRegression()\n",
        "\n",
        "lm2.fit(X2_train,y_train)"
      ],
      "metadata": {
        "id": "pPAf1RxkI_tw"
      },
      "execution_count": null,
      "outputs": []
    },
    {
      "cell_type": "code",
      "source": [
        "predictions2 = lm2.predict(X2_train)\n",
        "predictions_test2 = lm2.predict(X2_test)"
      ],
      "metadata": {
        "id": "KbFukrfRI_wN"
      },
      "execution_count": null,
      "outputs": []
    },
    {
      "cell_type": "code",
      "source": [
        "print('Results for lm2')\n",
        "print('  R2 SCORE: Train', round(r2_score(y_train, predictions2),3), '     | Test', round(r2_score(y_test, predictions_test2), 3))\n",
        "print(' MSE SCORE: Train', round(mean_squared_error(y_train,predictions2),3), ' | Test', round(mean_squared_error(y_test,predictions_test2), 3))\n",
        "print('RMSE SCORE: Train', round(np.sqrt(mean_squared_error(y_train,predictions2)),3), '   | Test', round(np.sqrt(mean_squared_error(y_test,predictions_test2)),3))\n",
        "print(' MAE SCORE: Train', round(mean_absolute_error(y_train, predictions2),3), '    | Test', round(mean_absolute_error(y_test, predictions_test2), 3))"
      ],
      "metadata": {
        "id": "Mx0yv8dII_yF"
      },
      "execution_count": null,
      "outputs": []
    },
    {
      "cell_type": "code",
      "source": [
        "print('Results for lm')\n",
        "print('  R2 SCORE: Train', round(r2_score(y_train, predictions),3), '     | Test', round(r2_score(y_test, predictions_test), 3))\n",
        "print(' MSE SCORE: Train', round(mean_squared_error(y_train,predictions),3), ' | Test', round(mean_squared_error(y_test,predictions_test), 3))\n",
        "print('RMSE SCORE: Train', round(np.sqrt(mean_squared_error(y_train,predictions)),3), '   | Test', round(np.sqrt(mean_squared_error(y_test,predictions_test)),3))\n",
        "print(' MAE SCORE: Train', round(mean_absolute_error(y_train, predictions),3), '    | Test', round(mean_absolute_error(y_test, predictions_test), 3))"
      ],
      "metadata": {
        "id": "4U9j-pBCKx5S"
      },
      "execution_count": null,
      "outputs": []
    },
    {
      "cell_type": "code",
      "source": [
        "# The model errors improved slightly when we removed 'Hits' though R2 dropped by one-thousandth (marginal, imperceptible difference)"
      ],
      "metadata": {
        "id": "VXvNhMwqLuEZ"
      },
      "execution_count": null,
      "outputs": []
    },
    {
      "cell_type": "markdown",
      "source": [
        "## Validation data"
      ],
      "metadata": {
        "id": "RP7e6WqK5yDh"
      }
    },
    {
      "cell_type": "code",
      "source": [
        "from google.colab import files\n",
        "uploaded = files.upload()"
      ],
      "metadata": {
        "id": "P5QmeHxeME7I",
        "colab": {
          "resources": {
            "http://localhost:8080/nbextensions/google.colab/files.js": {
              "data": "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",
              "ok": true,
              "headers": [
                [
                  "content-type",
                  "application/javascript"
                ]
              ],
              "status": 200,
              "status_text": ""
            }
          },
          "base_uri": "https://localhost:8080/",
          "height": 38
        },
        "outputId": "2ff5822c-1d90-4e29-aacc-3ff2a2d87308"
      },
      "execution_count": null,
      "outputs": [
        {
          "output_type": "display_data",
          "data": {
            "text/plain": [
              "<IPython.core.display.HTML object>"
            ],
            "text/html": [
              "\n",
              "     <input type=\"file\" id=\"files-dd59d1f9-18d7-41ed-a52d-ae117a7744dd\" name=\"files[]\" multiple disabled\n",
              "        style=\"border:none\" />\n",
              "     <output id=\"result-dd59d1f9-18d7-41ed-a52d-ae117a7744dd\">\n",
              "      Upload widget is only available when the cell has been executed in the\n",
              "      current browser session. Please rerun this cell to enable.\n",
              "      </output>\n",
              "      <script src=\"/nbextensions/google.colab/files.js\"></script> "
            ]
          },
          "metadata": {}
        }
      ]
    },
    {
      "cell_type": "code",
      "source": [
        "import io\n",
        "fifa_validate_raw = pd.read_csv(io.BytesIO(uploaded['fifa21_validate.csv']))"
      ],
      "metadata": {
        "id": "Pj9vsmYOMIGT"
      },
      "execution_count": null,
      "outputs": []
    },
    {
      "cell_type": "code",
      "source": [
        "# Cleaning steps"
      ],
      "metadata": {
        "id": "GpQLO1h4BJnB"
      },
      "execution_count": null,
      "outputs": []
    },
    {
      "cell_type": "code",
      "source": [
        "fifa_validate_raw.shape\n",
        "fifa_validate_raw.isna().sum()"
      ],
      "metadata": {
        "id": "Sb7QWigpBLvI"
      },
      "execution_count": null,
      "outputs": []
    },
    {
      "cell_type": "code",
      "source": [
        "fifa_validate_clean = fifa_validate_raw[['Height', 'Weight', 'foot', 'Growth', 'Joined', 'Value', 'Wage', \n",
        "                 'Attacking', 'Skill', 'Movement', 'Reactions', 'Power', 'Jumping', 'Strength', 'Mentality',\n",
        "                 'Composure','Goalkeeping','Total Stats','Base Stats','W/F','SM','A/W', 'D/W', 'IR', 'PAC', 'SHO', 'PAS', 'DRI',\n",
        "                 'DEF', 'PHY', 'OVA']]"
      ],
      "metadata": {
        "id": "ehUNndg1LbOD"
      },
      "execution_count": null,
      "outputs": []
    },
    {
      "cell_type": "code",
      "source": [
        "print(fifa_new_columns.shape)\n",
        "print(fifa_validate_clean.shape)"
      ],
      "metadata": {
        "id": "uubz8GLyLbUS"
      },
      "execution_count": null,
      "outputs": []
    },
    {
      "cell_type": "code",
      "source": [
        "fifa_validate_NaNs_removed = fifa_validate_clean.dropna(axis=0)\n",
        "fifa_validate_NaNs_removed.isna().sum()"
      ],
      "metadata": {
        "id": "dti-2P4jQpQF"
      },
      "execution_count": null,
      "outputs": []
    },
    {
      "cell_type": "code",
      "source": [
        "fifa_validate_clean = fifa_validate_NaNs_removed.copy() "
      ],
      "metadata": {
        "id": "MESy4yjdLbaZ"
      },
      "execution_count": null,
      "outputs": []
    },
    {
      "cell_type": "code",
      "source": [
        "fifa_validate_clean['Weight'] = fifa_validate_clean['Weight'].replace(to_replace=r'lbs', value='', regex=True) "
      ],
      "metadata": {
        "id": "JLDaf-ifSAvJ"
      },
      "execution_count": null,
      "outputs": []
    },
    {
      "cell_type": "code",
      "source": [
        "def parse_ht(ht):\n",
        "  \n",
        "    ht_ = ht.split(\"'\")\n",
        "    ft_ = int(ht_[0])\n",
        "    in_ = int(ht_[1].replace(\"\\\"\",\"\"))\n",
        "    return (12*ft_) + in_\n",
        "\n",
        "fifa_validate_clean['Height'] = fifa_validate_clean['Height'].apply(lambda x:parse_ht(x))"
      ],
      "metadata": {
        "id": "W1lC5w7kSAvK"
      },
      "execution_count": null,
      "outputs": []
    },
    {
      "cell_type": "code",
      "source": [
        "cols = ['Value','Wage'] \n",
        "fifa_validate_clean[cols] = fifa_validate_clean[cols].replace({'\\€':''}, regex=True)"
      ],
      "metadata": {
        "id": "yYFkBioBSAvK"
      },
      "execution_count": null,
      "outputs": []
    },
    {
      "cell_type": "code",
      "source": [
        "def value_to_int(x):\n",
        "    for i in x:\n",
        "      if 'K' in x:\n",
        "        i=x.replace('K','')\n",
        "        i=float(i)*1000\n",
        "        i=int(i)\n",
        "      elif 'M' in x:\n",
        "        i=x.replace('M','')\n",
        "        i=float(i)*1000000\n",
        "        i=int(i)\n",
        "      else:\n",
        "        i=i\n",
        "    return i"
      ],
      "metadata": {
        "id": "0gPymdOlSAvK"
      },
      "execution_count": null,
      "outputs": []
    },
    {
      "cell_type": "code",
      "source": [
        "fifa_validate_clean['Value'] = fifa_validate_clean['Value'].apply(value_to_int)\n",
        "fifa_validate_clean['Wage'] = fifa_validate_clean['Wage'].apply(value_to_int)"
      ],
      "metadata": {
        "id": "AfoVtoAjSAvK"
      },
      "execution_count": null,
      "outputs": []
    },
    {
      "cell_type": "code",
      "source": [
        "cols2 = ['W/F','SM', 'IR'] \n",
        "\n",
        "fifa_validate_clean[cols2] = fifa_validate_clean[cols2].replace({'\\★':''}, regex=True)"
      ],
      "metadata": {
        "id": "dMHGFoSJSAvK"
      },
      "execution_count": null,
      "outputs": []
    },
    {
      "cell_type": "code",
      "source": [
        "fifa_validate_clean['Joined'] = pd.DatetimeIndex(fifa_validate_clean['Joined']).year"
      ],
      "metadata": {
        "id": "UlDHxIJ5SAvK"
      },
      "execution_count": null,
      "outputs": []
    },
    {
      "cell_type": "code",
      "source": [
        "fifa_validate_clean = fifa_validate_clean.astype({'Value':'int', 'Wage':'int', 'W/F':'int', 'SM':'int', 'IR':'int', 'Weight':'int'})"
      ],
      "metadata": {
        "id": "1LagIgxjSAvK"
      },
      "execution_count": null,
      "outputs": []
    },
    {
      "cell_type": "code",
      "source": [
        "fifa_v = fifa_validate_clean.copy()\n",
        "fifa_v.info()"
      ],
      "metadata": {
        "id": "InuGyuK3SAvK"
      },
      "execution_count": null,
      "outputs": []
    },
    {
      "cell_type": "code",
      "source": [
        "fifa_v.isna().sum()"
      ],
      "metadata": {
        "id": "r4NgfbGtSAvK"
      },
      "execution_count": null,
      "outputs": []
    },
    {
      "cell_type": "code",
      "source": [
        "yv = fifa_v['OVA']\n",
        "\n",
        "XV = fifa_v.drop(['OVA'], axis=1)"
      ],
      "metadata": {
        "id": "5pM16zlERpEM"
      },
      "execution_count": null,
      "outputs": []
    },
    {
      "cell_type": "code",
      "source": [
        "XV_num = XV.select_dtypes(np.number)\n",
        "\n",
        "XV_cat = XV.select_dtypes(object)"
      ],
      "metadata": {
        "id": "3LZ7vsOeRpHW"
      },
      "execution_count": null,
      "outputs": []
    },
    {
      "cell_type": "code",
      "source": [
        "MinMaxtransformer = MinMaxScaler().fit(XV_num)\n",
        "XV_normalized = MinMaxtransformer.transform(XV_num)\n",
        "print(XV_normalized.shape)\n",
        "\n",
        "XV_normalized = pd.DataFrame(XV_normalized,columns=XV_num.columns)\n",
        "XV_normalized.head()"
      ],
      "metadata": {
        "id": "wqVhW9g6RlYY"
      },
      "execution_count": null,
      "outputs": []
    },
    {
      "cell_type": "code",
      "source": [
        "encoder = OneHotEncoder(drop='first').fit(XV_cat)\n",
        "encoded = encoder.transform(XV_cat).toarray()\n",
        "print(encoded)\n",
        "\n",
        "cols = encoder.get_feature_names(input_features=XV_cat.columns)\n",
        "print(cols)\n",
        "\n",
        "onehot_encoded1 = pd.DataFrame(encoded, columns=cols)\n",
        "onehot_encoded1.head()"
      ],
      "metadata": {
        "id": "6iv3BNhrZ3kT"
      },
      "execution_count": null,
      "outputs": []
    },
    {
      "cell_type": "code",
      "source": [
        "XV = pd.concat([XV_normalized, onehot_encoded1], axis=1)\n",
        "XV.reset_index(drop=True)\n",
        "XV.head()"
      ],
      "metadata": {
        "id": "dqQe7etQaM_e"
      },
      "execution_count": null,
      "outputs": []
    },
    {
      "cell_type": "code",
      "source": [
        "# Rerun the test with cleaned validation data"
      ],
      "metadata": {
        "id": "fUaHtWpK5zd3"
      },
      "execution_count": null,
      "outputs": []
    },
    {
      "cell_type": "code",
      "source": [
        "# XV_train, XV_test, yv_train, yv_test = train_test_split(XV, yv, test_size=0.2, random_state=42) "
      ],
      "metadata": {
        "id": "TVfrjLds93G_"
      },
      "execution_count": null,
      "outputs": []
    },
    {
      "cell_type": "code",
      "source": [
        "# lm_validation = linear_model.LinearRegression()\n",
        "\n",
        "# lm_validation.fit(XV_train,yv_train)"
      ],
      "metadata": {
        "id": "7iBHSIaX9w-T"
      },
      "execution_count": null,
      "outputs": []
    },
    {
      "cell_type": "code",
      "source": [
        "# predictionsV = lm_validation.predict(XV_train)\n",
        "predictions_testV = lm2.predict(XV)"
      ],
      "metadata": {
        "id": "ZGCEC4qE9tC6"
      },
      "execution_count": null,
      "outputs": []
    },
    {
      "cell_type": "code",
      "source": [
        "print('Results for lm_V')\n",
        "print('  R2 SCORE: Test', round(r2_score(yv, predictions_testV), 3))\n",
        "print(' MSE SCORE: Test', round(mean_squared_error(yv,predictions_testV), 3))\n",
        "print('RMSE SCORE: Test', round(np.sqrt(mean_squared_error(yv,predictions_testV)),3))\n",
        "print(' MAE SCORE: Test', round(mean_absolute_error(yv, predictions_testV), 3))"
      ],
      "metadata": {
        "id": "ZKgfNBtN9b0E"
      },
      "execution_count": null,
      "outputs": []
    }
  ]
}